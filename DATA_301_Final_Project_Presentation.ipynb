{
  "nbformat": 4,
  "nbformat_minor": 0,
  "metadata": {
    "colab": {
      "name": "DATA 301 Final Project Presentation",
      "provenance": [],
      "collapsed_sections": []
    },
    "kernelspec": {
      "name": "python3",
      "display_name": "Python 3"
    }
  },
  "cells": [
    {
      "cell_type": "markdown",
      "metadata": {
        "id": "ivAwR9-OTI58",
        "colab_type": "text"
      },
      "source": [
        "\n",
        "\n",
        "---\n",
        "\n",
        "#Predicting the Speed of Coronal Mass Ejections - David Barnett\n",
        "\n",
        "---\n",
        "\n"
      ]
    },
    {
      "cell_type": "markdown",
      "metadata": {
        "id": "8u00wHkscYAN",
        "colab_type": "text"
      },
      "source": [
        "From NASA:\n",
        "\n",
        "\"*The Space Weather Database Of Notifications, Knowledge, Information (DONKI) is a comprehensive on-line tool for space weather forecasters, scientists, and the general space science community. DONKI provides chronicles the daily interpretations of space weather observations, analysis, models, forecasts, and notifications provided by the Space Weather Research Center (SWRC), comprehensive knowledge-base search functionality to support anomaly resolution and space science research, intelligent linkages, relationships, cause-and-effects between space weather activities and comprehensive webservice API access to information stored in DONKI.*\"\n",
        "\n",
        "In summary, this API provides data on Coronal Mass Ejections, and I will use the existing data to try to predict the speed of future CMEs.\n",
        "\n",
        "API: https://api.nasa.gov/"
      ]
    },
    {
      "cell_type": "markdown",
      "metadata": {
        "id": "iZUb17ziccT1",
        "colab_type": "text"
      },
      "source": [
        "Definition from NOAA: \"Coronal Mass Ejections (CMEs) are large expulsions of plasma and magnetic field from the Sun’s corona\". These events occur from a range of several times a day to once or twice a week.\n",
        "\n",
        "![](https://cosmos-images1.imgix.net/file/spina/photo/18036/190218-sun-full.jpg?ixlib=rails-2.1.4&auto=format&ch=Width%2CDPR&fit=max&w=1920)\n",
        "\n",
        "Fun Fact: In 1859 a coronal mass ejection hit earth which caused massive blackouts and electrical disruptions. A pair of people, one in Maine and one in Massachusetts, were able to talk on a telegraph for 2 hours without any manmade power due to this."
      ]
    },
    {
      "cell_type": "markdown",
      "metadata": {
        "id": "TDn33-qhKjBQ",
        "colab_type": "text"
      },
      "source": [
        "In this project, I'm attempting to predict the CME's speed (in km/s) based off of other provided variables, such as the direction of the CME and the time since the last CME. In the machine learning portion of this project, the training set will consist of the data from 2015-2017 and the testing set will consist of the data from 2018-2019, which tests how well the models can predict future speeds. \n",
        "\n",
        "Unfortunately, the link to the README for this API doesn't work, so some variables are somewhat unclear."
      ]
    },
    {
      "cell_type": "markdown",
      "metadata": {
        "id": "Pc7-CjcUihXh",
        "colab_type": "text"
      },
      "source": [
        "---\n",
        "\n",
        "I began by reading in the dataset through the NASA API which returned data in the JSON format. I requested data for Coronal Mass Ejections and CME Analysis; the first few rows from the resulting data are shown below."
      ]
    },
    {
      "cell_type": "markdown",
      "metadata": {
        "id": "eqf4C-AocxcK",
        "colab_type": "text"
      },
      "source": [
        "![image.png](https://imgur.com/Lho3Tfr.png)"
      ]
    },
    {
      "cell_type": "markdown",
      "metadata": {
        "id": "dL_tcORscxB6",
        "colab_type": "text"
      },
      "source": [
        "![image.png](https://imgur.com/oDJ0Npc.png)"
      ]
    },
    {
      "cell_type": "markdown",
      "metadata": {
        "id": "UFdS-BFMo3OZ",
        "colab_type": "text"
      },
      "source": [
        "These are the same dataframes after cleaning. I set the indexes to the time that the CME occurred."
      ]
    },
    {
      "cell_type": "markdown",
      "metadata": {
        "id": "UWt4d7UdcxLd",
        "colab_type": "text"
      },
      "source": [
        "![image.png](https://imgur.com/04E809s.png)"
      ]
    },
    {
      "cell_type": "markdown",
      "metadata": {
        "id": "KUTnJMv24hG2",
        "colab_type": "text"
      },
      "source": [
        "For my exploration, I first decided to perform some time series analyses."
      ]
    },
    {
      "cell_type": "markdown",
      "metadata": {
        "id": "N_3PAvwr76gl",
        "colab_type": "text"
      },
      "source": [
        "First, I plotted average speed against time."
      ]
    },
    {
      "cell_type": "markdown",
      "metadata": {
        "id": "59dIXCw3od8D",
        "colab_type": "text"
      },
      "source": [
        "![image.png](https://imgur.com/GLvp97W.png)"
      ]
    },
    {
      "cell_type": "markdown",
      "metadata": {
        "id": "gb8MLGYJ7-ok",
        "colab_type": "text"
      },
      "source": [
        "This plot shows that speed tended to decrease over time. This difference might affect how the machine learning portion of the project performs since the training and testing sets are based off of time, but this difference justifies using the time-based training and testing set since the model is supposed to predict future speeds."
      ]
    },
    {
      "cell_type": "markdown",
      "metadata": {
        "id": "sknDVW5z9thW",
        "colab_type": "text"
      },
      "source": [
        "Next I plotted the average half angle of the CME, which is essentially its direction."
      ]
    },
    {
      "cell_type": "markdown",
      "metadata": {
        "id": "a1YBvEpplJoY",
        "colab_type": "text"
      },
      "source": [
        "![image.png](https://imgur.com/ERJxaHh.png)"
      ]
    },
    {
      "cell_type": "markdown",
      "metadata": {
        "id": "OU8RJ88e9pmz",
        "colab_type": "text"
      },
      "source": [
        "Similar to speed, the average half angle of the CME also decreases over time, meaning the average direction of CMEs changes over time.\n"
      ]
    },
    {
      "cell_type": "markdown",
      "metadata": {
        "id": "z5ZBj46c-GIt",
        "colab_type": "text"
      },
      "source": [
        "The next two time series plots model how the time between the CME and its analysis changes over time and how the time since the last CME evolves over time."
      ]
    },
    {
      "cell_type": "markdown",
      "metadata": {
        "id": "mlvO2odz-t0U",
        "colab_type": "text"
      },
      "source": [
        "Average time between CME and its analysis:"
      ]
    },
    {
      "cell_type": "markdown",
      "metadata": {
        "id": "4MWaYIuhgKYr",
        "colab_type": "text"
      },
      "source": [
        "![image.png](https://imgur.com/nh7SWhM.png)"
      ]
    },
    {
      "cell_type": "markdown",
      "metadata": {
        "id": "v4HdDcwq-xdZ",
        "colab_type": "text"
      },
      "source": [
        "Average time since the last CME:"
      ]
    },
    {
      "cell_type": "markdown",
      "metadata": {
        "id": "Agl2_3ciosar",
        "colab_type": "text"
      },
      "source": [
        "![image.png](https://imgur.com/uBA31cO.png)"
      ]
    },
    {
      "cell_type": "markdown",
      "metadata": {
        "id": "HggNo5Ra-xAA",
        "colab_type": "text"
      },
      "source": [
        "Both of these increase over time, implying that there are less CMEs in later years and there is a longer wait between the CME and its analysis in later years."
      ]
    },
    {
      "cell_type": "markdown",
      "metadata": {
        "id": "PPHYll9i_Obn",
        "colab_type": "text"
      },
      "source": [
        "Next, I created some scatterplots of speed against the other 3 variables from above."
      ]
    },
    {
      "cell_type": "markdown",
      "metadata": {
        "id": "SIaU9Ans_Tln",
        "colab_type": "text"
      },
      "source": [
        "Speed vs. Half Angle (Direction)"
      ]
    },
    {
      "cell_type": "markdown",
      "metadata": {
        "id": "AAAgz5DXod-9",
        "colab_type": "text"
      },
      "source": [
        "![image.png](https://imgur.com/sI852tL.png)"
      ]
    },
    {
      "cell_type": "markdown",
      "metadata": {
        "id": "-NA3bUZN_YDt",
        "colab_type": "text"
      },
      "source": [
        "Speed vs. Time between CME and its analysis"
      ]
    },
    {
      "cell_type": "markdown",
      "metadata": {
        "id": "sKz4ft1uibgg",
        "colab_type": "text"
      },
      "source": [
        "![image.png](https://imgur.com/yTbVuPE.png)"
      ]
    },
    {
      "cell_type": "markdown",
      "metadata": {
        "id": "lrs-674x_b1U",
        "colab_type": "text"
      },
      "source": [
        "Speed vs. Time since the last CME"
      ]
    },
    {
      "cell_type": "markdown",
      "metadata": {
        "id": "WokoBgrEolO2",
        "colab_type": "text"
      },
      "source": [
        "![image.png](https://imgur.com/tqZrKrP.png)"
      ]
    },
    {
      "cell_type": "markdown",
      "metadata": {
        "id": "G7Xkj7ur_gSt",
        "colab_type": "text"
      },
      "source": [
        "The plot of Speed vs Time between a CME and its analysis shows a strong exponential relationship between the two variables, implying faster CMEs are more urgent and cause NASA to perform its analysis faster. \n",
        "\n",
        "Additionally, speed and direction have a weak correlation as well."
      ]
    },
    {
      "cell_type": "markdown",
      "metadata": {
        "id": "BEJBwjQUAUB5",
        "colab_type": "text"
      },
      "source": [
        "I also made a box plot of speed against the type of CME"
      ]
    },
    {
      "cell_type": "markdown",
      "metadata": {
        "id": "VWNgnqd1olVT",
        "colab_type": "text"
      },
      "source": [
        "![image.png](https://imgur.com/LfHUL1G.png)"
      ]
    },
    {
      "cell_type": "markdown",
      "metadata": {
        "id": "ZJJTAg69AbBp",
        "colab_type": "text"
      },
      "source": [
        "This plot shows a strong relationship between type and speed. Unfortunately, the link to the README of this dataset is broken and I could not find anything about types of CMEs that corresponds to these letters. I am keeping this variable, but it is possible that the only defining factor for a type of CME is its speed."
      ]
    },
    {
      "cell_type": "markdown",
      "metadata": {
        "id": "x-eVKRL4BE3k",
        "colab_type": "text"
      },
      "source": [
        "Now on to the machine learning portion of the project. Some variables that were mostly filled with NaN values had to be dropped since the machine learning models cannot handle data with NaN values. After combining the two data frames, and converting date variables to numeric variables so the models could handle them, this is the final data frame for the models. "
      ]
    },
    {
      "cell_type": "markdown",
      "metadata": {
        "id": "1xdWe4wBcxTa",
        "colab_type": "text"
      },
      "source": [
        "![image.png](https://imgur.com/VIKFdcf.png)"
      ]
    },
    {
      "cell_type": "markdown",
      "metadata": {
        "id": "o6K6HeYsqhfD",
        "colab_type": "text"
      },
      "source": [
        "With this dataset, I prepared 11 models and trained them on the training data then measured the mean squared error of their predicted values for the test set against the actual values for the test set. The models, grouped below be their overall class, were:\n",
        "\n",
        "Ensemble methods:\n",
        "\n",
        "*   Random Forest\n",
        "*   Neural Network\n",
        "*   Gradient Boosting\n",
        "*   AdaBoost\n",
        "*   ExtraTrees (EXTremely RAndomized Trees)\n",
        "\n",
        "Regression:\n",
        "\n",
        "*   Linear Regression\n",
        "*   Ridge Regression\n",
        "*   Elastic Net\n",
        "*   Lasso\n",
        "\n",
        "Support Vectors:\n",
        "\n",
        "*   Support Vector\n",
        "*   Linear Support Vector\n"
      ]
    },
    {
      "cell_type": "markdown",
      "metadata": {
        "id": "XNNETInOlJrF",
        "colab_type": "text"
      },
      "source": [
        "![image.png](https://imgur.com/mZiDxqJ.png)"
      ]
    },
    {
      "cell_type": "markdown",
      "metadata": {
        "id": "JtsGiWWBt3TC",
        "colab_type": "text"
      },
      "source": [
        "This analysis shows that the best models are Random Forest and Gradient Boosting, and they are similar with no scaler and with the standard scaler. Below are the scatterplots of the true testing values and the predicted values for the Random Forest and Gradient Boosting models. \n",
        "\n",
        "The Random Forest had an $R^2$ value of 83% and Gradient Boosting had an $R^2$ of 81%."
      ]
    },
    {
      "cell_type": "markdown",
      "metadata": {
        "id": "EbszafDLibc8",
        "colab_type": "text"
      },
      "source": [
        "![image.png](https://imgur.com/yea0WiV.png)"
      ]
    },
    {
      "cell_type": "markdown",
      "metadata": {
        "id": "HOErXfc1lJk0",
        "colab_type": "text"
      },
      "source": [
        "![image.png](https://imgur.com/YZV7kaT.png)"
      ]
    },
    {
      "cell_type": "markdown",
      "metadata": {
        "id": "b2pp3LRHugRr",
        "colab_type": "text"
      },
      "source": [
        "I also ran a voting regressor with these two models, but the MSE, $R^2$, and predicted value plot were nearly identical to the ones above since these two models perform so similarly."
      ]
    },
    {
      "cell_type": "markdown",
      "metadata": {
        "id": "n3LWxL4LusfK",
        "colab_type": "text"
      },
      "source": [
        "Finally, I measured feature importance in the Random Forest model. The results are shown below."
      ]
    },
    {
      "cell_type": "markdown",
      "metadata": {
        "id": "iGdA-bHxlJh1",
        "colab_type": "text"
      },
      "source": [
        "![image.png](https://imgur.com/1RY9L4g.png)"
      ]
    },
    {
      "cell_type": "markdown",
      "metadata": {
        "id": "gR5pdjMSibZU",
        "colab_type": "text"
      },
      "source": [
        "![image.png](https://imgur.com/lrJCqPc.png)"
      ]
    },
    {
      "cell_type": "markdown",
      "metadata": {
        "id": "13wuT397u4qC",
        "colab_type": "text"
      },
      "source": [
        "It appears that the type of CME was the most important feature in predicting the speed of the CME, with the time between the CME and when its analysis was recorded also having a non-negligible impact."
      ]
    }
  ]
}