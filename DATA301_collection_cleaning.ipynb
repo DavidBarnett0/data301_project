{
  "nbformat": 4,
  "nbformat_minor": 0,
  "metadata": {
    "colab": {
      "name": "DATA301_collection_cleaning",
      "provenance": [],
      "collapsed_sections": []
    },
    "kernelspec": {
      "name": "python3",
      "display_name": "Python 3"
    }
  },
  "cells": [
    {
      "cell_type": "markdown",
      "metadata": {
        "id": "7jjjMUFhxQw7",
        "colab_type": "text"
      },
      "source": [
        "#David Barnett\n",
        "#Predicting the Speed of Coronal Mass Projections\n",
        "#Data Collection and Cleaning\n"
      ]
    },
    {
      "cell_type": "markdown",
      "metadata": {
        "id": "TkLpWL9uVJHz",
        "colab_type": "text"
      },
      "source": [
        "From NASA:\n",
        "\n",
        "\"*The Space Weather Database Of Notifications, Knowledge, Information (DONKI) is a comprehensive on-line tool for space weather forecasters, scientists, and the general space science community. DONKI provides chronicles the daily interpretations of space weather observations, analysis, models, forecasts, and notifications provided by the Space Weather Research Center (SWRC), comprehensive knowledge-base search functionality to support anomaly resolution and space science research, intelligent linkages, relationships, cause-and-effects between space weather activities and comprehensive webservice API access to information stored in DONKI.*\"\n",
        "\n",
        "In summary, this API provides data on Coronal Mass Ejections, and I will use the existing data to try to predict the speed of future CMEs.\n",
        "\n",
        "API: https://api.nasa.gov/"
      ]
    },
    {
      "cell_type": "markdown",
      "metadata": {
        "id": "QST3tEDRgYaI",
        "colab_type": "text"
      },
      "source": [
        "Definition from NOAA: \"Coronal Mass Ejections (CMEs) are large expulsions of plasma and magnetic field from the Sun’s corona\". These events occur from a range of several times a day to once or twice a week.\n",
        "\n",
        "![](https://cosmos-images1.imgix.net/file/spina/photo/18036/190218-sun-full.jpg?ixlib=rails-2.1.4&auto=format&ch=Width%2CDPR&fit=max&w=1920)\n",
        "\n",
        "In this project, I'm attempting to predict the CME's speed (in km/s) based off of other provided variables, such as the direction of the CME and the time since the last CME. Unfortunate, the link to the README for this API doesn't work, so some variables are somewhat unclear."
      ]
    },
    {
      "cell_type": "markdown",
      "metadata": {
        "id": "mK0qveyWmTrs",
        "colab_type": "text"
      },
      "source": [
        "Now to the collection and cleaning. The following few lines are just reading in the dataset from the NASA API."
      ]
    },
    {
      "cell_type": "code",
      "metadata": {
        "id": "Z0FbygxFSEvJ",
        "colab_type": "code",
        "colab": {}
      },
      "source": [
        "import pandas as pd\n",
        "import numpy as np\n",
        "import requests\n",
        "import time\n",
        "\n",
        "api_key = \"HLVX1IR9aQvs0QCteQ9HaO6NHep4GLhRLJs3nuRo\"\n",
        "prefix = \"https://api.nasa.gov/DONKI/\"\n",
        "\n",
        "types = [\"CME\", \"CMEAnalysis\"]\n",
        "\n",
        "suffixes = []\n",
        "\n",
        "for i in range(2):\n",
        "  suffixes.append(types[i] + \n",
        "                     \"?startDate=2015-01-01&endDate=2019-12-31&api_key=\" \n",
        "                     + api_key)"
      ],
      "execution_count": 0,
      "outputs": []
    },
    {
      "cell_type": "code",
      "metadata": {
        "id": "5vy0pVN5W8HT",
        "colab_type": "code",
        "colab": {}
      },
      "source": [
        "cme_response = requests.get(url = prefix + suffixes[0],\n",
        "                headers = {\n",
        "                  \"Accept\": \"text/html,application/xhtml+xml,application/xml;q=0.9,image/webp,image/apng,*/*;q=0.8,application/signed-exchange;v=b3;q=0.9\",\n",
        "                  \"Accept-Encoding\": \"gzip, deflate, br\",\n",
        "                  \"Accept-Language\": \"en-US,en;q=0.9\",\n",
        "                  \"Cache-Control\": \"max-age=0\",\n",
        "                  \"Connection\": \"keep-alive\",\n",
        "                  \"Cookie\": \"_ga=GA1.3.952345178.1583203760; _gid=GA1.3.2112114380.1583374584\",\n",
        "                  \"Host\": \"api.nasa.gov\",\n",
        "                  \"Referer\": \"https://api.nasa.gov/\",\n",
        "                  \"Sec-Fetch-Dest\": \"document\",\n",
        "                  \"Sec-Fetch-Mode\": \"navigate\",\n",
        "                  \"Sec-Fetch-Site\": \"none\",\n",
        "                  \"Sec-Fetch-User\": \"?1\",\n",
        "                  \"Upgrade-Insecure-Requests\": \"1\",\n",
        "                  \"User-Agent\": \"Mozilla/5.0 (Windows NT 10.0; Win64; x64) AppleWebKit/537.36 (KHTML, like Gecko) Chrome/80.0.3987.122 Safari/537.36)\"\n",
        "              })\n",
        "    \n",
        "time.sleep(0.5)\n",
        "\n",
        "analysis_response = requests.get(url = prefix + suffixes[1],\n",
        "                headers = {\n",
        "                  \"Accept\": \"text/html,application/xhtml+xml,application/xml;q=0.9,image/webp,image/apng,*/*;q=0.8,application/signed-exchange;v=b3;q=0.9\",\n",
        "                  \"Accept-Encoding\": \"gzip, deflate, br\",\n",
        "                  \"Accept-Language\": \"en-US,en;q=0.9\",\n",
        "                  \"Cache-Control\": \"max-age=0\",\n",
        "                  \"Connection\": \"keep-alive\",\n",
        "                  \"Cookie\": \"_ga=GA1.3.952345178.1583203760; _gid=GA1.3.2112114380.1583374584\",\n",
        "                  \"Host\": \"api.nasa.gov\",\n",
        "                  \"Referer\": \"https://api.nasa.gov/\",\n",
        "                  \"Sec-Fetch-Dest\": \"document\",\n",
        "                  \"Sec-Fetch-Mode\": \"navigate\",\n",
        "                  \"Sec-Fetch-Site\": \"none\",\n",
        "                  \"Sec-Fetch-User\": \"?1\",\n",
        "                  \"Upgrade-Insecure-Requests\": \"1\",\n",
        "                  \"User-Agent\": \"Mozilla/5.0 (Windows NT 10.0; Win64; x64) AppleWebKit/537.36 (KHTML, like Gecko) Chrome/80.0.3987.122 Safari/537.36)\"\n",
        "              })"
      ],
      "execution_count": 0,
      "outputs": []
    },
    {
      "cell_type": "code",
      "metadata": {
        "id": "_8QUe051tq68",
        "colab_type": "code",
        "outputId": "edad8f74-1b3c-4f5d-bd4e-e3c68c129b35",
        "colab": {
          "base_uri": "https://localhost:8080/",
          "height": 363
        }
      },
      "source": [
        "cme_df = pd.DataFrame(cme_response.json())\n",
        "cme_df.head()"
      ],
      "execution_count": 0,
      "outputs": [
        {
          "output_type": "execute_result",
          "data": {
            "text/html": [
              "<div>\n",
              "<style scoped>\n",
              "    .dataframe tbody tr th:only-of-type {\n",
              "        vertical-align: middle;\n",
              "    }\n",
              "\n",
              "    .dataframe tbody tr th {\n",
              "        vertical-align: top;\n",
              "    }\n",
              "\n",
              "    .dataframe thead th {\n",
              "        text-align: right;\n",
              "    }\n",
              "</style>\n",
              "<table border=\"1\" class=\"dataframe\">\n",
              "  <thead>\n",
              "    <tr style=\"text-align: right;\">\n",
              "      <th></th>\n",
              "      <th>activityID</th>\n",
              "      <th>startTime</th>\n",
              "      <th>sourceLocation</th>\n",
              "      <th>activeRegionNum</th>\n",
              "      <th>instruments</th>\n",
              "      <th>cmeAnalyses</th>\n",
              "      <th>linkedEvents</th>\n",
              "      <th>note</th>\n",
              "      <th>catalog</th>\n",
              "    </tr>\n",
              "  </thead>\n",
              "  <tbody>\n",
              "    <tr>\n",
              "      <th>0</th>\n",
              "      <td>2015-01-01T08:24:00-CME-001</td>\n",
              "      <td>2015-01-01T08:24Z</td>\n",
              "      <td></td>\n",
              "      <td>NaN</td>\n",
              "      <td>[{'id': 1, 'displayName': 'SOHO: LASCO/C2'}, {...</td>\n",
              "      <td>[{'time21_5': '2015-01-01T23:14Z', 'latitude':...</td>\n",
              "      <td>None</td>\n",
              "      <td>Eruption visible in SDO 193, starting ~ 2014-1...</td>\n",
              "      <td>SWRC_CATALOG</td>\n",
              "    </tr>\n",
              "    <tr>\n",
              "      <th>1</th>\n",
              "      <td>2015-01-02T14:36:00-CME-001</td>\n",
              "      <td>2015-01-02T14:36Z</td>\n",
              "      <td>S07W40</td>\n",
              "      <td>NaN</td>\n",
              "      <td>[{'id': 1, 'displayName': 'SOHO: LASCO/C2'}, {...</td>\n",
              "      <td>[{'time21_5': '2015-01-02T23:55Z', 'latitude':...</td>\n",
              "      <td>[{'activityID': '2015-01-07T05:24:00-IPS-001'}]</td>\n",
              "      <td>Associated with a very gradual eruption in a s...</td>\n",
              "      <td>SWRC_CATALOG</td>\n",
              "    </tr>\n",
              "    <tr>\n",
              "      <th>2</th>\n",
              "      <td>2015-01-03T03:24:00-CME-001</td>\n",
              "      <td>2015-01-03T03:24Z</td>\n",
              "      <td></td>\n",
              "      <td>NaN</td>\n",
              "      <td>[{'id': 1, 'displayName': 'SOHO: LASCO/C2'}, {...</td>\n",
              "      <td>[{'time21_5': '2015-01-03T23:40Z', 'latitude':...</td>\n",
              "      <td>None</td>\n",
              "      <td></td>\n",
              "      <td>SWRC_CATALOG</td>\n",
              "    </tr>\n",
              "    <tr>\n",
              "      <th>3</th>\n",
              "      <td>2015-01-06T18:24:00-CME-001</td>\n",
              "      <td>2015-01-06T18:24Z</td>\n",
              "      <td></td>\n",
              "      <td>NaN</td>\n",
              "      <td>[{'id': 1, 'displayName': 'SOHO: LASCO/C2'}, {...</td>\n",
              "      <td>[{'time21_5': '2015-01-07T00:25Z', 'latitude':...</td>\n",
              "      <td>None</td>\n",
              "      <td>No source region could be found in SDO.</td>\n",
              "      <td>SWRC_CATALOG</td>\n",
              "    </tr>\n",
              "    <tr>\n",
              "      <th>4</th>\n",
              "      <td>2015-01-07T16:24:00-CME-001</td>\n",
              "      <td>2015-01-07T16:24Z</td>\n",
              "      <td></td>\n",
              "      <td>NaN</td>\n",
              "      <td>[{'id': 1, 'displayName': 'SOHO: LASCO/C2'}, {...</td>\n",
              "      <td>[{'time21_5': '2015-01-08T03:10Z', 'latitude':...</td>\n",
              "      <td>None</td>\n",
              "      <td>SDO 193 shows indication of an eruption off th...</td>\n",
              "      <td>SWRC_CATALOG</td>\n",
              "    </tr>\n",
              "  </tbody>\n",
              "</table>\n",
              "</div>"
            ],
            "text/plain": [
              "                    activityID  ...       catalog\n",
              "0  2015-01-01T08:24:00-CME-001  ...  SWRC_CATALOG\n",
              "1  2015-01-02T14:36:00-CME-001  ...  SWRC_CATALOG\n",
              "2  2015-01-03T03:24:00-CME-001  ...  SWRC_CATALOG\n",
              "3  2015-01-06T18:24:00-CME-001  ...  SWRC_CATALOG\n",
              "4  2015-01-07T16:24:00-CME-001  ...  SWRC_CATALOG\n",
              "\n",
              "[5 rows x 9 columns]"
            ]
          },
          "metadata": {
            "tags": []
          },
          "execution_count": 3
        }
      ]
    },
    {
      "cell_type": "markdown",
      "metadata": {
        "id": "6RzshEJkob71",
        "colab_type": "text"
      },
      "source": [
        "Now I'm going to clean up cme_df. The following chunks each have comments of what I'm doing for each chunk."
      ]
    },
    {
      "cell_type": "code",
      "metadata": {
        "id": "ZY2E1F2Iu3iZ",
        "colab_type": "code",
        "outputId": "4c52addc-2213-42a7-8260-4815b6751163",
        "colab": {
          "base_uri": "https://localhost:8080/",
          "height": 185
        }
      },
      "source": [
        "#Changing linked events to an indicator variable, since relatively few are \n",
        "#linked and the data for other events were all too small to perform analyses\n",
        "\n",
        "cme_df[\"linkedEvents\"][cme_df[\"linkedEvents\"].notna()] = 1\n",
        "cme_df[\"linkedEvents\"][cme_df[\"linkedEvents\"].isna()] = 0\n",
        "cme_df[\"linkedEvents\"] = cme_df[\"linkedEvents\"].astype(int)"
      ],
      "execution_count": 0,
      "outputs": [
        {
          "output_type": "stream",
          "text": [
            "/usr/local/lib/python3.6/dist-packages/ipykernel_launcher.py:2: SettingWithCopyWarning: \n",
            "A value is trying to be set on a copy of a slice from a DataFrame\n",
            "\n",
            "See the caveats in the documentation: http://pandas.pydata.org/pandas-docs/stable/user_guide/indexing.html#returning-a-view-versus-a-copy\n",
            "  \n",
            "/usr/local/lib/python3.6/dist-packages/ipykernel_launcher.py:3: SettingWithCopyWarning: \n",
            "A value is trying to be set on a copy of a slice from a DataFrame\n",
            "\n",
            "See the caveats in the documentation: http://pandas.pydata.org/pandas-docs/stable/user_guide/indexing.html#returning-a-view-versus-a-copy\n",
            "  This is separate from the ipykernel package so we can avoid doing imports until\n"
          ],
          "name": "stderr"
        }
      ]
    },
    {
      "cell_type": "code",
      "metadata": {
        "id": "lSTVbYX_sQNy",
        "colab_type": "code",
        "outputId": "2546c749-69b9-46a7-b14d-24ca2d3a1420",
        "colab": {
          "base_uri": "https://localhost:8080/",
          "height": 70
        }
      },
      "source": [
        "#Formatting instruments variable to be a text variable\n",
        "\n",
        "instruments = pd.Series()\n",
        "for i in range(len(cme_df[\"instruments\"])):\n",
        "  insts = \"\"\n",
        "  for inst in cme_df[\"instruments\"][i]:\n",
        "    for key in inst.keys():\n",
        "      if key == \"displayName\":\n",
        "        insts += inst[key] + \" \"\n",
        "  instruments.set_value(i, insts)\n",
        "\n",
        "cme_df[\"instruments\"] = instruments"
      ],
      "execution_count": 0,
      "outputs": [
        {
          "output_type": "stream",
          "text": [
            "/usr/local/lib/python3.6/dist-packages/ipykernel_launcher.py:9: FutureWarning: set_value is deprecated and will be removed in a future release. Please use .at[] or .iat[] accessors instead\n",
            "  if __name__ == '__main__':\n"
          ],
          "name": "stderr"
        }
      ]
    },
    {
      "cell_type": "code",
      "metadata": {
        "id": "abSGTW9hout2",
        "colab_type": "code",
        "colab": {}
      },
      "source": [
        "#Date formatting\n",
        "\n",
        "cme_df[\"startTime\"] = pd.to_datetime(\n",
        "  cme_df[\"startTime\"].str[:10] + \" \" + cme_df[\"startTime\"].str[11:16]\n",
        ")"
      ],
      "execution_count": 0,
      "outputs": []
    },
    {
      "cell_type": "code",
      "metadata": {
        "id": "RHVG5xKd1Q4w",
        "colab_type": "code",
        "outputId": "87a8f225-6373-4d76-8492-86272076af80",
        "colab": {
          "base_uri": "https://localhost:8080/",
          "height": 151
        }
      },
      "source": [
        "#Changing source location to coordinate columns\n",
        "\n",
        "locs = cme_df[\"sourceLocation\"][cme_df[\"sourceLocation\"] != \"\"]\n",
        "\n",
        "locs = locs.str.replace(\"N\", \"\")\n",
        "locs = locs.str.replace(\"S\", \"-\")\n",
        "locs = locs.str.replace(\"E\", \" \")\n",
        "locs = locs.str.replace(\"W\", \" -\")\n",
        "\n",
        "locs = locs.str.split(\" \")\n",
        "\n",
        "for i in locs.index:\n",
        "  for j in range(2):\n",
        "    locs[i][j] = int(locs[i][j])\n",
        "\n",
        "cme_df[\"N/S\"] = np.nan\n",
        "cme_df[\"E/W\"] = np.nan\n",
        "\n",
        "for i in locs.index:\n",
        "  cme_df[\"N/S\"][i] = locs[i][0]\n",
        "  cme_df[\"E/W\"][i] = locs[i][1]\n",
        "\n",
        "cme_df[\"N/S\"] = cme_df[\"N/S\"][cme_df[\"N/S\"] < 90] #Removing outliers\n"
      ],
      "execution_count": 0,
      "outputs": [
        {
          "output_type": "stream",
          "text": [
            "/usr/local/lib/python3.6/dist-packages/ipykernel_launcher.py:19: SettingWithCopyWarning: \n",
            "A value is trying to be set on a copy of a slice from a DataFrame\n",
            "\n",
            "See the caveats in the documentation: http://pandas.pydata.org/pandas-docs/stable/user_guide/indexing.html#returning-a-view-versus-a-copy\n",
            "/usr/local/lib/python3.6/dist-packages/ipykernel_launcher.py:20: SettingWithCopyWarning: \n",
            "A value is trying to be set on a copy of a slice from a DataFrame\n",
            "\n",
            "See the caveats in the documentation: http://pandas.pydata.org/pandas-docs/stable/user_guide/indexing.html#returning-a-view-versus-a-copy\n"
          ],
          "name": "stderr"
        }
      ]
    },
    {
      "cell_type": "code",
      "metadata": {
        "colab_type": "code",
        "id": "2MVOscYVgZKt",
        "colab": {}
      },
      "source": [
        "#Dropping unnecessary variables\n",
        "\n",
        "cme_df.drop([\"activityID\", \"sourceLocation\", \"cmeAnalyses\", \"catalog\"], axis = 1, inplace = True)"
      ],
      "execution_count": 0,
      "outputs": []
    },
    {
      "cell_type": "code",
      "metadata": {
        "id": "BPJu8wnAgZ1C",
        "colab_type": "code",
        "colab": {}
      },
      "source": [
        "#Dropping duplicate rows so CMEs aren't counted twice\n",
        "\n",
        "cme_df.drop_duplicates(subset = \"startTime\", inplace = True)"
      ],
      "execution_count": 0,
      "outputs": []
    },
    {
      "cell_type": "code",
      "metadata": {
        "id": "Xi6CppMhJr-r",
        "colab_type": "code",
        "colab": {}
      },
      "source": [
        "#Setting the index to be when the CME occurred\n",
        "\n",
        "cme_df.set_index(\"startTime\", inplace = True)"
      ],
      "execution_count": 0,
      "outputs": []
    },
    {
      "cell_type": "markdown",
      "metadata": {
        "id": "FG8NPEq3pEmh",
        "colab_type": "text"
      },
      "source": [
        "Now I'll clean up analysis_df."
      ]
    },
    {
      "cell_type": "code",
      "metadata": {
        "id": "X-iWqneKx545",
        "colab_type": "code",
        "outputId": "fdb8546c-64c5-4e90-a7f8-599988eaa10b",
        "colab": {
          "base_uri": "https://localhost:8080/",
          "height": 195
        }
      },
      "source": [
        "analysis_df = pd.DataFrame(analysis_response.json())\n",
        "analysis_df.head()"
      ],
      "execution_count": 0,
      "outputs": [
        {
          "output_type": "execute_result",
          "data": {
            "text/html": [
              "<div>\n",
              "<style scoped>\n",
              "    .dataframe tbody tr th:only-of-type {\n",
              "        vertical-align: middle;\n",
              "    }\n",
              "\n",
              "    .dataframe tbody tr th {\n",
              "        vertical-align: top;\n",
              "    }\n",
              "\n",
              "    .dataframe thead th {\n",
              "        text-align: right;\n",
              "    }\n",
              "</style>\n",
              "<table border=\"1\" class=\"dataframe\">\n",
              "  <thead>\n",
              "    <tr style=\"text-align: right;\">\n",
              "      <th></th>\n",
              "      <th>time21_5</th>\n",
              "      <th>latitude</th>\n",
              "      <th>longitude</th>\n",
              "      <th>halfAngle</th>\n",
              "      <th>speed</th>\n",
              "      <th>type</th>\n",
              "      <th>isMostAccurate</th>\n",
              "      <th>associatedCMEID</th>\n",
              "      <th>note</th>\n",
              "      <th>catalog</th>\n",
              "    </tr>\n",
              "  </thead>\n",
              "  <tbody>\n",
              "    <tr>\n",
              "      <th>0</th>\n",
              "      <td>2015-01-01T23:14Z</td>\n",
              "      <td>31.0</td>\n",
              "      <td>26.0</td>\n",
              "      <td>32.0</td>\n",
              "      <td>350.0</td>\n",
              "      <td>S</td>\n",
              "      <td>True</td>\n",
              "      <td>2015-01-01T08:24:00-CME-001</td>\n",
              "      <td>using both SWPC_cat and STEREO_cat with approx...</td>\n",
              "      <td>SWRC_CATALOG</td>\n",
              "    </tr>\n",
              "    <tr>\n",
              "      <th>1</th>\n",
              "      <td>2015-01-02T23:55Z</td>\n",
              "      <td>3.0</td>\n",
              "      <td>34.0</td>\n",
              "      <td>23.0</td>\n",
              "      <td>353.0</td>\n",
              "      <td>S</td>\n",
              "      <td>True</td>\n",
              "      <td>2015-01-02T14:36:00-CME-001</td>\n",
              "      <td>Reanalyzed with more C2 and STEREOA imagery</td>\n",
              "      <td>SWRC_CATALOG</td>\n",
              "    </tr>\n",
              "    <tr>\n",
              "      <th>2</th>\n",
              "      <td>2015-01-03T23:40Z</td>\n",
              "      <td>-49.0</td>\n",
              "      <td>-82.0</td>\n",
              "      <td>42.0</td>\n",
              "      <td>210.0</td>\n",
              "      <td>S</td>\n",
              "      <td>True</td>\n",
              "      <td>2015-01-03T03:24:00-CME-001</td>\n",
              "      <td>Source region could not be found. It's possibl...</td>\n",
              "      <td>SWRC_CATALOG</td>\n",
              "    </tr>\n",
              "    <tr>\n",
              "      <th>3</th>\n",
              "      <td>2015-01-07T00:25Z</td>\n",
              "      <td>9.0</td>\n",
              "      <td>39.0</td>\n",
              "      <td>12.0</td>\n",
              "      <td>532.0</td>\n",
              "      <td>C</td>\n",
              "      <td>True</td>\n",
              "      <td>2015-01-06T18:24:00-CME-001</td>\n",
              "      <td></td>\n",
              "      <td>SWRC_CATALOG</td>\n",
              "    </tr>\n",
              "    <tr>\n",
              "      <th>4</th>\n",
              "      <td>2015-01-08T03:10Z</td>\n",
              "      <td>67.0</td>\n",
              "      <td>-102.0</td>\n",
              "      <td>20.0</td>\n",
              "      <td>579.0</td>\n",
              "      <td>C</td>\n",
              "      <td>True</td>\n",
              "      <td>2015-01-07T16:24:00-CME-001</td>\n",
              "      <td></td>\n",
              "      <td>SWRC_CATALOG</td>\n",
              "    </tr>\n",
              "  </tbody>\n",
              "</table>\n",
              "</div>"
            ],
            "text/plain": [
              "            time21_5  ...       catalog\n",
              "0  2015-01-01T23:14Z  ...  SWRC_CATALOG\n",
              "1  2015-01-02T23:55Z  ...  SWRC_CATALOG\n",
              "2  2015-01-03T23:40Z  ...  SWRC_CATALOG\n",
              "3  2015-01-07T00:25Z  ...  SWRC_CATALOG\n",
              "4  2015-01-08T03:10Z  ...  SWRC_CATALOG\n",
              "\n",
              "[5 rows x 10 columns]"
            ]
          },
          "metadata": {
            "tags": []
          },
          "execution_count": 11
        }
      ]
    },
    {
      "cell_type": "code",
      "metadata": {
        "id": "q22wFYRmzTzF",
        "colab_type": "code",
        "colab": {}
      },
      "source": [
        "#Date formatting\n",
        "\n",
        "analysis_df[\"analysis_time\"] = pd.to_datetime(\n",
        "    analysis_df[\"time21_5\"].str[:10] + \" \" + \n",
        "    analysis_df[\"time21_5\"].str[11:16] + \":00\"\n",
        ")\n",
        "analysis_df[\"occurrence_time\"] = pd.to_datetime(\n",
        "    analysis_df[\"associatedCMEID\"].str[:10] + \" \" + \n",
        "    analysis_df[\"associatedCMEID\"].str[11:19]\n",
        ")"
      ],
      "execution_count": 0,
      "outputs": []
    },
    {
      "cell_type": "code",
      "metadata": {
        "id": "_9ucrMGOMVh8",
        "colab_type": "code",
        "colab": {}
      },
      "source": [
        "#Creating a new variable that measures the distance between the occurrence time \n",
        "#of the CME and when the analysis was performed\n",
        "\n",
        "analysis_df[\"time_before_analysis\"] = (analysis_df[\"analysis_time\"] - \n",
        "                            analysis_df[\"occurrence_time\"])"
      ],
      "execution_count": 0,
      "outputs": []
    },
    {
      "cell_type": "code",
      "metadata": {
        "id": "nvIz4wevOumK",
        "colab_type": "code",
        "outputId": "d56da526-cea5-4434-9a97-9dab815fcd41",
        "colab": {
          "base_uri": "https://localhost:8080/",
          "height": 104
        }
      },
      "source": [
        "#Additionally, creating a variable for time since the last CME\n",
        "\n",
        "time_since_last_cme = pd.Series()\n",
        "time_since_last_cme.set_value(0, np.nan)\n",
        "for i in range(1, len(analysis_df)): \n",
        "  time_since_last_cme.set_value(i, analysis_df.iloc[i][\"occurrence_time\"] - \n",
        "                                analysis_df.iloc[i-1][\"occurrence_time\"])\n",
        "analysis_df[\"time_since_last_cme\"] = time_since_last_cme"
      ],
      "execution_count": 0,
      "outputs": [
        {
          "output_type": "stream",
          "text": [
            "/usr/local/lib/python3.6/dist-packages/ipykernel_launcher.py:3: FutureWarning: set_value is deprecated and will be removed in a future release. Please use .at[] or .iat[] accessors instead\n",
            "  This is separate from the ipykernel package so we can avoid doing imports until\n",
            "/usr/local/lib/python3.6/dist-packages/ipykernel_launcher.py:6: FutureWarning: set_value is deprecated and will be removed in a future release. Please use .at[] or .iat[] accessors instead\n",
            "  \n"
          ],
          "name": "stderr"
        }
      ]
    },
    {
      "cell_type": "code",
      "metadata": {
        "id": "TG6zrm6JoS6s",
        "colab_type": "code",
        "colab": {}
      },
      "source": [
        "#Formatting the differences in time to be in number of hours rather than has a \n",
        "#timedelta variable. This helps with future analyses\n",
        "\n",
        "analysis_df[\"time_before_analysis\"] = (\n",
        "      analysis_df[\"time_before_analysis\"].dt.total_seconds() / 3600\n",
        ")\n",
        "\n",
        "analysis_df[\"time_since_last_cme\"] = (\n",
        "    analysis_df[\"time_since_last_cme\"].dt.total_seconds() / 3600\n",
        ")"
      ],
      "execution_count": 0,
      "outputs": []
    },
    {
      "cell_type": "code",
      "metadata": {
        "id": "DhcUUkq61Sls",
        "colab_type": "code",
        "colab": {}
      },
      "source": [
        "#Dropping unnecessary variables\n",
        "\n",
        "analysis_df.drop([\"time21_5\", \"isMostAccurate\", \"associatedCMEID\", \"catalog\"], \n",
        "               axis = 1, inplace = True)"
      ],
      "execution_count": 0,
      "outputs": []
    },
    {
      "cell_type": "code",
      "metadata": {
        "id": "3E0ef3F4YrZS",
        "colab_type": "code",
        "colab": {}
      },
      "source": [
        "#Dropping duplicate CMEs\n",
        "analysis_df.drop_duplicates(subset = \"occurrence_time\", inplace = True)"
      ],
      "execution_count": 0,
      "outputs": []
    },
    {
      "cell_type": "code",
      "metadata": {
        "id": "BM-18V7AXcNT",
        "colab_type": "code",
        "colab": {}
      },
      "source": [
        "#Setting the index to match the startTime of cme_df\n",
        "\n",
        "analysis_df.set_index(\"occurrence_time\", inplace = True)"
      ],
      "execution_count": 0,
      "outputs": []
    },
    {
      "cell_type": "code",
      "metadata": {
        "id": "CI7zJY5YzHqv",
        "colab_type": "code",
        "outputId": "5f30c316-d555-405b-9fe8-b40eff791be1",
        "colab": {
          "base_uri": "https://localhost:8080/",
          "height": 450
        }
      },
      "source": [
        "display(cme_df.head())\n",
        "print()\n",
        "display(analysis_df.head())"
      ],
      "execution_count": 0,
      "outputs": [
        {
          "output_type": "display_data",
          "data": {
            "text/html": [
              "<div>\n",
              "<style scoped>\n",
              "    .dataframe tbody tr th:only-of-type {\n",
              "        vertical-align: middle;\n",
              "    }\n",
              "\n",
              "    .dataframe tbody tr th {\n",
              "        vertical-align: top;\n",
              "    }\n",
              "\n",
              "    .dataframe thead th {\n",
              "        text-align: right;\n",
              "    }\n",
              "</style>\n",
              "<table border=\"1\" class=\"dataframe\">\n",
              "  <thead>\n",
              "    <tr style=\"text-align: right;\">\n",
              "      <th></th>\n",
              "      <th>activeRegionNum</th>\n",
              "      <th>instruments</th>\n",
              "      <th>linkedEvents</th>\n",
              "      <th>note</th>\n",
              "      <th>N/S</th>\n",
              "      <th>E/W</th>\n",
              "    </tr>\n",
              "    <tr>\n",
              "      <th>startTime</th>\n",
              "      <th></th>\n",
              "      <th></th>\n",
              "      <th></th>\n",
              "      <th></th>\n",
              "      <th></th>\n",
              "      <th></th>\n",
              "    </tr>\n",
              "  </thead>\n",
              "  <tbody>\n",
              "    <tr>\n",
              "      <th>2015-01-01 08:24:00</th>\n",
              "      <td>NaN</td>\n",
              "      <td>SOHO: LASCO/C2 SOHO: LASCO/C3</td>\n",
              "      <td>0</td>\n",
              "      <td>Eruption visible in SDO 193, starting ~ 2014-1...</td>\n",
              "      <td>NaN</td>\n",
              "      <td>NaN</td>\n",
              "    </tr>\n",
              "    <tr>\n",
              "      <th>2015-01-02 14:36:00</th>\n",
              "      <td>NaN</td>\n",
              "      <td>SOHO: LASCO/C2 SOHO: LASCO/C3</td>\n",
              "      <td>1</td>\n",
              "      <td>Associated with a very gradual eruption in a s...</td>\n",
              "      <td>-7.0</td>\n",
              "      <td>-40.0</td>\n",
              "    </tr>\n",
              "    <tr>\n",
              "      <th>2015-01-03 03:24:00</th>\n",
              "      <td>NaN</td>\n",
              "      <td>SOHO: LASCO/C2 SOHO: LASCO/C3</td>\n",
              "      <td>0</td>\n",
              "      <td></td>\n",
              "      <td>NaN</td>\n",
              "      <td>NaN</td>\n",
              "    </tr>\n",
              "    <tr>\n",
              "      <th>2015-01-06 18:24:00</th>\n",
              "      <td>NaN</td>\n",
              "      <td>SOHO: LASCO/C2 SOHO: LASCO/C3</td>\n",
              "      <td>0</td>\n",
              "      <td>No source region could be found in SDO.</td>\n",
              "      <td>NaN</td>\n",
              "      <td>NaN</td>\n",
              "    </tr>\n",
              "    <tr>\n",
              "      <th>2015-01-07 16:24:00</th>\n",
              "      <td>NaN</td>\n",
              "      <td>SOHO: LASCO/C2 SOHO: LASCO/C3 STEREO A: SECCHI...</td>\n",
              "      <td>0</td>\n",
              "      <td>SDO 193 shows indication of an eruption off th...</td>\n",
              "      <td>NaN</td>\n",
              "      <td>NaN</td>\n",
              "    </tr>\n",
              "  </tbody>\n",
              "</table>\n",
              "</div>"
            ],
            "text/plain": [
              "                     activeRegionNum  ...   E/W\n",
              "startTime                             ...      \n",
              "2015-01-01 08:24:00              NaN  ...   NaN\n",
              "2015-01-02 14:36:00              NaN  ... -40.0\n",
              "2015-01-03 03:24:00              NaN  ...   NaN\n",
              "2015-01-06 18:24:00              NaN  ...   NaN\n",
              "2015-01-07 16:24:00              NaN  ...   NaN\n",
              "\n",
              "[5 rows x 6 columns]"
            ]
          },
          "metadata": {
            "tags": []
          }
        },
        {
          "output_type": "stream",
          "text": [
            "\n"
          ],
          "name": "stdout"
        },
        {
          "output_type": "display_data",
          "data": {
            "text/html": [
              "<div>\n",
              "<style scoped>\n",
              "    .dataframe tbody tr th:only-of-type {\n",
              "        vertical-align: middle;\n",
              "    }\n",
              "\n",
              "    .dataframe tbody tr th {\n",
              "        vertical-align: top;\n",
              "    }\n",
              "\n",
              "    .dataframe thead th {\n",
              "        text-align: right;\n",
              "    }\n",
              "</style>\n",
              "<table border=\"1\" class=\"dataframe\">\n",
              "  <thead>\n",
              "    <tr style=\"text-align: right;\">\n",
              "      <th></th>\n",
              "      <th>latitude</th>\n",
              "      <th>longitude</th>\n",
              "      <th>halfAngle</th>\n",
              "      <th>speed</th>\n",
              "      <th>type</th>\n",
              "      <th>note</th>\n",
              "      <th>analysis_time</th>\n",
              "      <th>time_before_analysis</th>\n",
              "      <th>time_since_last_cme</th>\n",
              "    </tr>\n",
              "    <tr>\n",
              "      <th>occurrence_time</th>\n",
              "      <th></th>\n",
              "      <th></th>\n",
              "      <th></th>\n",
              "      <th></th>\n",
              "      <th></th>\n",
              "      <th></th>\n",
              "      <th></th>\n",
              "      <th></th>\n",
              "      <th></th>\n",
              "    </tr>\n",
              "  </thead>\n",
              "  <tbody>\n",
              "    <tr>\n",
              "      <th>2015-01-01 08:24:00</th>\n",
              "      <td>31.0</td>\n",
              "      <td>26.0</td>\n",
              "      <td>32.0</td>\n",
              "      <td>350.0</td>\n",
              "      <td>S</td>\n",
              "      <td>using both SWPC_cat and STEREO_cat with approx...</td>\n",
              "      <td>2015-01-01 23:14:00</td>\n",
              "      <td>14.833333</td>\n",
              "      <td>NaN</td>\n",
              "    </tr>\n",
              "    <tr>\n",
              "      <th>2015-01-02 14:36:00</th>\n",
              "      <td>3.0</td>\n",
              "      <td>34.0</td>\n",
              "      <td>23.0</td>\n",
              "      <td>353.0</td>\n",
              "      <td>S</td>\n",
              "      <td>Reanalyzed with more C2 and STEREOA imagery</td>\n",
              "      <td>2015-01-02 23:55:00</td>\n",
              "      <td>9.316667</td>\n",
              "      <td>30.2</td>\n",
              "    </tr>\n",
              "    <tr>\n",
              "      <th>2015-01-03 03:24:00</th>\n",
              "      <td>-49.0</td>\n",
              "      <td>-82.0</td>\n",
              "      <td>42.0</td>\n",
              "      <td>210.0</td>\n",
              "      <td>S</td>\n",
              "      <td>Source region could not be found. It's possibl...</td>\n",
              "      <td>2015-01-03 23:40:00</td>\n",
              "      <td>20.266667</td>\n",
              "      <td>12.8</td>\n",
              "    </tr>\n",
              "    <tr>\n",
              "      <th>2015-01-06 18:24:00</th>\n",
              "      <td>9.0</td>\n",
              "      <td>39.0</td>\n",
              "      <td>12.0</td>\n",
              "      <td>532.0</td>\n",
              "      <td>C</td>\n",
              "      <td></td>\n",
              "      <td>2015-01-07 00:25:00</td>\n",
              "      <td>6.016667</td>\n",
              "      <td>87.0</td>\n",
              "    </tr>\n",
              "    <tr>\n",
              "      <th>2015-01-07 16:24:00</th>\n",
              "      <td>67.0</td>\n",
              "      <td>-102.0</td>\n",
              "      <td>20.0</td>\n",
              "      <td>579.0</td>\n",
              "      <td>C</td>\n",
              "      <td></td>\n",
              "      <td>2015-01-08 03:10:00</td>\n",
              "      <td>10.766667</td>\n",
              "      <td>22.0</td>\n",
              "    </tr>\n",
              "  </tbody>\n",
              "</table>\n",
              "</div>"
            ],
            "text/plain": [
              "                     latitude  ...  time_since_last_cme\n",
              "occurrence_time                ...                     \n",
              "2015-01-01 08:24:00      31.0  ...                  NaN\n",
              "2015-01-02 14:36:00       3.0  ...                 30.2\n",
              "2015-01-03 03:24:00     -49.0  ...                 12.8\n",
              "2015-01-06 18:24:00       9.0  ...                 87.0\n",
              "2015-01-07 16:24:00      67.0  ...                 22.0\n",
              "\n",
              "[5 rows x 9 columns]"
            ]
          },
          "metadata": {
            "tags": []
          }
        }
      ]
    },
    {
      "cell_type": "code",
      "metadata": {
        "id": "0ckCTaE8MQ9i",
        "colab_type": "code",
        "colab": {}
      },
      "source": [
        "#Downloading the resulting data frames to csv files\n",
        "\n",
        "from google.colab import files\n",
        "\n",
        "cme_df.to_csv(\"cme.csv\")\n",
        "files.download(\"cme.csv\")\n",
        "\n",
        "analysis_df.to_csv(\"cmeanalysis.csv\")\n",
        "files.download(\"cmeanalysis.csv\")"
      ],
      "execution_count": 0,
      "outputs": []
    }
  ]
}