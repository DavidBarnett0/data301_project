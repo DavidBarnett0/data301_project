{
  "nbformat": 4,
  "nbformat_minor": 0,
  "metadata": {
    "colab": {
      "name": "DATA301_machine_learning.ipynb",
      "provenance": [],
      "collapsed_sections": []
    },
    "kernelspec": {
      "name": "python3",
      "display_name": "Python 3"
    }
  },
  "cells": [
    {
      "cell_type": "markdown",
      "metadata": {
        "id": "_li3SbXCFXyo",
        "colab_type": "text"
      },
      "source": [
        "#David Barnett\n",
        "#Predicting the Speed of Coronal Mass Projections\n",
        "#Predictions with Machine Learning"
      ]
    },
    {
      "cell_type": "markdown",
      "metadata": {
        "id": "eRyryDrWGH5I",
        "colab_type": "text"
      },
      "source": [
        "Just reading in the data"
      ]
    },
    {
      "cell_type": "code",
      "metadata": {
        "id": "-w8sK29BDhhZ",
        "colab_type": "code",
        "outputId": "cb5aba26-d04a-4fb8-d60e-8b32de979293",
        "colab": {
          "base_uri": "https://localhost:8080/",
          "height": 185
        }
      },
      "source": [
        "import pandas as pd\n",
        "import numpy as np\n",
        "\n",
        "data_dir = (\"https://raw.githubusercontent.com/DavidBarnett0/\" + \n",
        "            \"data301_project/master/\")\n",
        "\n",
        "cme_df = pd.read_csv(data_dir + \"cme.csv\", \n",
        "                     index_col=\"startTime\", \n",
        "                     parse_dates = True)\n",
        "\n",
        "analysis_df = pd.read_csv(data_dir + \"cmeanalysis.csv\", \n",
        "                          index_col=\"occurrence_time\",\n",
        "                          parse_dates = True)\n",
        "\n",
        "cme_df[\"note\"][cme_df[\"note\"].isna()] = \"\"\n",
        "analysis_df[\"note\"][analysis_df[\"note\"].isna()] = \"\""
      ],
      "execution_count": 1,
      "outputs": [
        {
          "output_type": "stream",
          "text": [
            "/usr/local/lib/python3.6/dist-packages/ipykernel_launcher.py:15: SettingWithCopyWarning: \n",
            "A value is trying to be set on a copy of a slice from a DataFrame\n",
            "\n",
            "See the caveats in the documentation: http://pandas.pydata.org/pandas-docs/stable/user_guide/indexing.html#returning-a-view-versus-a-copy\n",
            "  from ipykernel import kernelapp as app\n",
            "/usr/local/lib/python3.6/dist-packages/ipykernel_launcher.py:16: SettingWithCopyWarning: \n",
            "A value is trying to be set on a copy of a slice from a DataFrame\n",
            "\n",
            "See the caveats in the documentation: http://pandas.pydata.org/pandas-docs/stable/user_guide/indexing.html#returning-a-view-versus-a-copy\n",
            "  app.launch_new_instance()\n"
          ],
          "name": "stderr"
        }
      ]
    },
    {
      "cell_type": "markdown",
      "metadata": {
        "id": "UQrwb495Hd5G",
        "colab_type": "text"
      },
      "source": [
        "Now we are finally going to combine these two datasets into one dataset."
      ]
    },
    {
      "cell_type": "code",
      "metadata": {
        "id": "BuU4ZvCSFz6B",
        "colab_type": "code",
        "colab": {}
      },
      "source": [
        "cme_combined_df = cme_df.join(analysis_df, how = \"left\", \n",
        "                              lsuffix=\"_cme\", rsuffix=\"_analysis\")"
      ],
      "execution_count": 0,
      "outputs": []
    },
    {
      "cell_type": "markdown",
      "metadata": {
        "id": "N9jeGbYXNBG6",
        "colab_type": "text"
      },
      "source": [
        "Additionally, since we want to consider time a variable in our machine learning models, we will change start time to a normal variable instead of the index."
      ]
    },
    {
      "cell_type": "code",
      "metadata": {
        "id": "6yxxhXDUNBRd",
        "colab_type": "code",
        "colab": {}
      },
      "source": [
        "cme_combined_df.reset_index(inplace = True)"
      ],
      "execution_count": 0,
      "outputs": []
    },
    {
      "cell_type": "markdown",
      "metadata": {
        "id": "ktitxcd-Mbbg",
        "colab_type": "text"
      },
      "source": [
        "Datetime types did not transfer well in the conversion to csv and back, so I will need to change the types of the date variables as well."
      ]
    },
    {
      "cell_type": "code",
      "metadata": {
        "id": "ouq4ov3NKCDK",
        "colab_type": "code",
        "colab": {}
      },
      "source": [
        "cme_combined_df[\"analysis_time\"] = pd.to_datetime(\n",
        "    cme_combined_df[\"analysis_time\"]\n",
        ")"
      ],
      "execution_count": 0,
      "outputs": []
    },
    {
      "cell_type": "markdown",
      "metadata": {
        "id": "iFglsXPBYaWe",
        "colab_type": "text"
      },
      "source": [
        "Through our exploration in the previous notebook, we know that instruments is unnecessary. Additionally, our machine learning analyses require us to not have NA values. Due to this, I'm unfortunately dropping activeRegionNum, N/S, and E/W since there are not enough data points to justify filling in the NA values with the median. For NA values in remaining columns, we will simply drop the rows with NA because we have enough remaining rows to continue with our machine learning analyses."
      ]
    },
    {
      "cell_type": "code",
      "metadata": {
        "id": "9W5neTmNSfCL",
        "colab_type": "code",
        "outputId": "07388309-2c91-445f-ec9c-8a55db388c07",
        "colab": {
          "base_uri": "https://localhost:8080/",
          "height": 414
        }
      },
      "source": [
        "cme_combined_df.drop([\"activeRegionNum\", \"N/S\", \"E/W\"], axis = 1, inplace = True)\n",
        "cme_combined_df.dropna(inplace=True)\n",
        "cme_combined_df.head()"
      ],
      "execution_count": 5,
      "outputs": [
        {
          "output_type": "execute_result",
          "data": {
            "text/html": [
              "<div>\n",
              "<style scoped>\n",
              "    .dataframe tbody tr th:only-of-type {\n",
              "        vertical-align: middle;\n",
              "    }\n",
              "\n",
              "    .dataframe tbody tr th {\n",
              "        vertical-align: top;\n",
              "    }\n",
              "\n",
              "    .dataframe thead th {\n",
              "        text-align: right;\n",
              "    }\n",
              "</style>\n",
              "<table border=\"1\" class=\"dataframe\">\n",
              "  <thead>\n",
              "    <tr style=\"text-align: right;\">\n",
              "      <th></th>\n",
              "      <th>startTime</th>\n",
              "      <th>instruments</th>\n",
              "      <th>linkedEvents</th>\n",
              "      <th>note_cme</th>\n",
              "      <th>latitude</th>\n",
              "      <th>longitude</th>\n",
              "      <th>halfAngle</th>\n",
              "      <th>speed</th>\n",
              "      <th>type</th>\n",
              "      <th>note_analysis</th>\n",
              "      <th>analysis_time</th>\n",
              "      <th>time_before_analysis</th>\n",
              "      <th>time_since_last_cme</th>\n",
              "    </tr>\n",
              "  </thead>\n",
              "  <tbody>\n",
              "    <tr>\n",
              "      <th>1</th>\n",
              "      <td>2015-01-02 14:36:00</td>\n",
              "      <td>SOHO: LASCO/C2 SOHO: LASCO/C3</td>\n",
              "      <td>1</td>\n",
              "      <td>Associated with a very gradual eruption in a s...</td>\n",
              "      <td>3.0</td>\n",
              "      <td>34.0</td>\n",
              "      <td>23.0</td>\n",
              "      <td>353.0</td>\n",
              "      <td>S</td>\n",
              "      <td>Reanalyzed with more C2 and STEREOA imagery</td>\n",
              "      <td>2015-01-02 23:55:00</td>\n",
              "      <td>9.316667</td>\n",
              "      <td>30.2</td>\n",
              "    </tr>\n",
              "    <tr>\n",
              "      <th>2</th>\n",
              "      <td>2015-01-03 03:24:00</td>\n",
              "      <td>SOHO: LASCO/C2 SOHO: LASCO/C3</td>\n",
              "      <td>0</td>\n",
              "      <td></td>\n",
              "      <td>-49.0</td>\n",
              "      <td>-82.0</td>\n",
              "      <td>42.0</td>\n",
              "      <td>210.0</td>\n",
              "      <td>S</td>\n",
              "      <td>Source region could not be found. It's possibl...</td>\n",
              "      <td>2015-01-03 23:40:00</td>\n",
              "      <td>20.266667</td>\n",
              "      <td>12.8</td>\n",
              "    </tr>\n",
              "    <tr>\n",
              "      <th>3</th>\n",
              "      <td>2015-01-06 18:24:00</td>\n",
              "      <td>SOHO: LASCO/C2 SOHO: LASCO/C3</td>\n",
              "      <td>0</td>\n",
              "      <td>No source region could be found in SDO.</td>\n",
              "      <td>9.0</td>\n",
              "      <td>39.0</td>\n",
              "      <td>12.0</td>\n",
              "      <td>532.0</td>\n",
              "      <td>C</td>\n",
              "      <td></td>\n",
              "      <td>2015-01-07 00:25:00</td>\n",
              "      <td>6.016667</td>\n",
              "      <td>87.0</td>\n",
              "    </tr>\n",
              "    <tr>\n",
              "      <th>4</th>\n",
              "      <td>2015-01-07 16:24:00</td>\n",
              "      <td>SOHO: LASCO/C2 SOHO: LASCO/C3 STEREO A: SECCHI...</td>\n",
              "      <td>0</td>\n",
              "      <td>SDO 193 shows indication of an eruption off th...</td>\n",
              "      <td>67.0</td>\n",
              "      <td>-102.0</td>\n",
              "      <td>20.0</td>\n",
              "      <td>579.0</td>\n",
              "      <td>C</td>\n",
              "      <td></td>\n",
              "      <td>2015-01-08 03:10:00</td>\n",
              "      <td>10.766667</td>\n",
              "      <td>22.0</td>\n",
              "    </tr>\n",
              "    <tr>\n",
              "      <th>5</th>\n",
              "      <td>2015-01-09 00:00:00</td>\n",
              "      <td>SOHO: LASCO/C2 SOHO: LASCO/C3 STEREO A: SECCHI...</td>\n",
              "      <td>0</td>\n",
              "      <td>There was this faintest CME in the SW, seen mo...</td>\n",
              "      <td>-10.0</td>\n",
              "      <td>2.0</td>\n",
              "      <td>13.0</td>\n",
              "      <td>265.0</td>\n",
              "      <td>S</td>\n",
              "      <td></td>\n",
              "      <td>2015-01-09 05:54:00</td>\n",
              "      <td>5.900000</td>\n",
              "      <td>31.6</td>\n",
              "    </tr>\n",
              "  </tbody>\n",
              "</table>\n",
              "</div>"
            ],
            "text/plain": [
              "            startTime  ... time_since_last_cme\n",
              "1 2015-01-02 14:36:00  ...                30.2\n",
              "2 2015-01-03 03:24:00  ...                12.8\n",
              "3 2015-01-06 18:24:00  ...                87.0\n",
              "4 2015-01-07 16:24:00  ...                22.0\n",
              "5 2015-01-09 00:00:00  ...                31.6\n",
              "\n",
              "[5 rows x 13 columns]"
            ]
          },
          "metadata": {
            "tags": []
          },
          "execution_count": 5
        }
      ]
    },
    {
      "cell_type": "markdown",
      "metadata": {
        "id": "illCk-YJj8cg",
        "colab_type": "text"
      },
      "source": [
        "Now we will set our masks for the training and testing datasets for our machine learning analysis while we still have the startTime variable. The training set will have the data from 2015-2017 while the testing set will have the data from 2018-2019."
      ]
    },
    {
      "cell_type": "code",
      "metadata": {
        "id": "IXYFXRF6j77N",
        "colab_type": "code",
        "colab": {}
      },
      "source": [
        "mask_train = cme_combined_df[\"startTime\"] < \"2018-01-01\"\n",
        "mask_test = cme_combined_df[\"startTime\"] >= \"2018-01-01\""
      ],
      "execution_count": 0,
      "outputs": []
    },
    {
      "cell_type": "markdown",
      "metadata": {
        "id": "RZAR8nvybH8E",
        "colab_type": "text"
      },
      "source": [
        "Before we start, since dates won't work in our machine learning models we will turn all dates and times into variables base off the minute, hour, day, etc."
      ]
    },
    {
      "cell_type": "code",
      "metadata": {
        "id": "J3-fSGGpbHE5",
        "colab_type": "code",
        "colab": {}
      },
      "source": [
        "cme_combined_df[\"startTime_minutes\"] = (\n",
        "      cme_combined_df[\"startTime\"].dt.year * 525600 + \n",
        "      cme_combined_df[\"startTime\"].dt.month * 43800 +\n",
        "      cme_combined_df[\"startTime\"].dt.day * 1440 +\n",
        "      cme_combined_df[\"startTime\"].dt.hour * 24 +\n",
        "      cme_combined_df[\"startTime\"].dt.minute\n",
        " )\n",
        "\n",
        "cme_combined_df[\"analysis_time_minutes\"] = (\n",
        "      cme_combined_df[\"analysis_time\"].dt.year * 525600 + \n",
        "      cme_combined_df[\"analysis_time\"].dt.month * 43800 +\n",
        "      cme_combined_df[\"analysis_time\"].dt.day * 1440 +\n",
        "      cme_combined_df[\"analysis_time\"].dt.hour * 24 +\n",
        "      cme_combined_df[\"analysis_time\"].dt.minute\n",
        " )\n",
        "\n",
        "cme_combined_df.drop([\"startTime\", \"analysis_time\"], axis = 1, inplace = True)"
      ],
      "execution_count": 0,
      "outputs": []
    },
    {
      "cell_type": "code",
      "metadata": {
        "id": "efA-AymBeIAs",
        "colab_type": "code",
        "outputId": "18e070c2-d9ad-4d23-fdf3-d0e5a3fa5885",
        "colab": {
          "base_uri": "https://localhost:8080/",
          "height": 568
        }
      },
      "source": [
        "cme_combined_df.head()"
      ],
      "execution_count": 8,
      "outputs": [
        {
          "output_type": "execute_result",
          "data": {
            "text/html": [
              "<div>\n",
              "<style scoped>\n",
              "    .dataframe tbody tr th:only-of-type {\n",
              "        vertical-align: middle;\n",
              "    }\n",
              "\n",
              "    .dataframe tbody tr th {\n",
              "        vertical-align: top;\n",
              "    }\n",
              "\n",
              "    .dataframe thead th {\n",
              "        text-align: right;\n",
              "    }\n",
              "</style>\n",
              "<table border=\"1\" class=\"dataframe\">\n",
              "  <thead>\n",
              "    <tr style=\"text-align: right;\">\n",
              "      <th></th>\n",
              "      <th>instruments</th>\n",
              "      <th>linkedEvents</th>\n",
              "      <th>note_cme</th>\n",
              "      <th>latitude</th>\n",
              "      <th>longitude</th>\n",
              "      <th>halfAngle</th>\n",
              "      <th>speed</th>\n",
              "      <th>type</th>\n",
              "      <th>note_analysis</th>\n",
              "      <th>time_before_analysis</th>\n",
              "      <th>time_since_last_cme</th>\n",
              "      <th>startTime_minutes</th>\n",
              "      <th>analysis_time_minutes</th>\n",
              "    </tr>\n",
              "  </thead>\n",
              "  <tbody>\n",
              "    <tr>\n",
              "      <th>1</th>\n",
              "      <td>SOHO: LASCO/C2 SOHO: LASCO/C3</td>\n",
              "      <td>1</td>\n",
              "      <td>Associated with a very gradual eruption in a s...</td>\n",
              "      <td>3.0</td>\n",
              "      <td>34.0</td>\n",
              "      <td>23.0</td>\n",
              "      <td>353.0</td>\n",
              "      <td>S</td>\n",
              "      <td>Reanalyzed with more C2 and STEREOA imagery</td>\n",
              "      <td>9.316667</td>\n",
              "      <td>30.2</td>\n",
              "      <td>1059131052</td>\n",
              "      <td>1059131287</td>\n",
              "    </tr>\n",
              "    <tr>\n",
              "      <th>2</th>\n",
              "      <td>SOHO: LASCO/C2 SOHO: LASCO/C3</td>\n",
              "      <td>0</td>\n",
              "      <td></td>\n",
              "      <td>-49.0</td>\n",
              "      <td>-82.0</td>\n",
              "      <td>42.0</td>\n",
              "      <td>210.0</td>\n",
              "      <td>S</td>\n",
              "      <td>Source region could not be found. It's possibl...</td>\n",
              "      <td>20.266667</td>\n",
              "      <td>12.8</td>\n",
              "      <td>1059132216</td>\n",
              "      <td>1059132712</td>\n",
              "    </tr>\n",
              "    <tr>\n",
              "      <th>3</th>\n",
              "      <td>SOHO: LASCO/C2 SOHO: LASCO/C3</td>\n",
              "      <td>0</td>\n",
              "      <td>No source region could be found in SDO.</td>\n",
              "      <td>9.0</td>\n",
              "      <td>39.0</td>\n",
              "      <td>12.0</td>\n",
              "      <td>532.0</td>\n",
              "      <td>C</td>\n",
              "      <td></td>\n",
              "      <td>6.016667</td>\n",
              "      <td>87.0</td>\n",
              "      <td>1059136896</td>\n",
              "      <td>1059137905</td>\n",
              "    </tr>\n",
              "    <tr>\n",
              "      <th>4</th>\n",
              "      <td>SOHO: LASCO/C2 SOHO: LASCO/C3 STEREO A: SECCHI...</td>\n",
              "      <td>0</td>\n",
              "      <td>SDO 193 shows indication of an eruption off th...</td>\n",
              "      <td>67.0</td>\n",
              "      <td>-102.0</td>\n",
              "      <td>20.0</td>\n",
              "      <td>579.0</td>\n",
              "      <td>C</td>\n",
              "      <td></td>\n",
              "      <td>10.766667</td>\n",
              "      <td>22.0</td>\n",
              "      <td>1059138288</td>\n",
              "      <td>1059139402</td>\n",
              "    </tr>\n",
              "    <tr>\n",
              "      <th>5</th>\n",
              "      <td>SOHO: LASCO/C2 SOHO: LASCO/C3 STEREO A: SECCHI...</td>\n",
              "      <td>0</td>\n",
              "      <td>There was this faintest CME in the SW, seen mo...</td>\n",
              "      <td>-10.0</td>\n",
              "      <td>2.0</td>\n",
              "      <td>13.0</td>\n",
              "      <td>265.0</td>\n",
              "      <td>S</td>\n",
              "      <td></td>\n",
              "      <td>5.900000</td>\n",
              "      <td>31.6</td>\n",
              "      <td>1059140760</td>\n",
              "      <td>1059140934</td>\n",
              "    </tr>\n",
              "  </tbody>\n",
              "</table>\n",
              "</div>"
            ],
            "text/plain": [
              "                                         instruments  ...  analysis_time_minutes\n",
              "1                     SOHO: LASCO/C2 SOHO: LASCO/C3   ...             1059131287\n",
              "2                     SOHO: LASCO/C2 SOHO: LASCO/C3   ...             1059132712\n",
              "3                     SOHO: LASCO/C2 SOHO: LASCO/C3   ...             1059137905\n",
              "4  SOHO: LASCO/C2 SOHO: LASCO/C3 STEREO A: SECCHI...  ...             1059139402\n",
              "5  SOHO: LASCO/C2 SOHO: LASCO/C3 STEREO A: SECCHI...  ...             1059140934\n",
              "\n",
              "[5 rows x 13 columns]"
            ]
          },
          "metadata": {
            "tags": []
          },
          "execution_count": 8
        }
      ]
    },
    {
      "cell_type": "markdown",
      "metadata": {
        "id": "jWtIdW3OGsnP",
        "colab_type": "text"
      },
      "source": [
        "Now we're going to run different machine learning models to see which performs best."
      ]
    },
    {
      "cell_type": "code",
      "metadata": {
        "id": "P3Mma__tGCkc",
        "colab_type": "code",
        "colab": {}
      },
      "source": [
        "from sklearn.pipeline import make_pipeline\n",
        "from sklearn.compose import make_column_transformer\n",
        "from sklearn.metrics import mean_squared_error, r2_score\n",
        "from sklearn.preprocessing import StandardScaler, Normalizer, OneHotEncoder\n",
        "from sklearn.feature_extraction.text import TfidfVectorizer\n",
        "from sklearn.linear_model import LinearRegression, Ridge, Lasso, ElasticNet\n",
        "from sklearn.ensemble import (GradientBoostingRegressor, AdaBoostRegressor,\n",
        "                              VotingRegressor, RandomForestRegressor, \n",
        "                              ExtraTreesRegressor)\n",
        "from sklearn.neural_network import MLPRegressor\n",
        "from sklearn.svm import SVR, NuSVR, LinearSVR"
      ],
      "execution_count": 0,
      "outputs": []
    },
    {
      "cell_type": "code",
      "metadata": {
        "id": "opAOeDzaG0Bz",
        "colab_type": "code",
        "colab": {}
      },
      "source": [
        "models = []\n",
        "model_names = []\n",
        "\n",
        "models.append(LinearRegression())\n",
        "model_names.append(\"Linear Regression\")\n",
        "\n",
        "models.append(Ridge())\n",
        "model_names.append(\"Ridge Regression\")\n",
        "\n",
        "models.append(Lasso())\n",
        "model_names.append(\"Lasso\")\n",
        "\n",
        "models.append(ElasticNet())\n",
        "model_names.append(\"Elastic Net\")\n",
        "\n",
        "models.append(GradientBoostingRegressor(max_depth=5))\n",
        "model_names.append(\"Gradient Boosting\")\n",
        "\n",
        "models.append(AdaBoostRegressor())\n",
        "model_names.append(\"AdaBoost\")\n",
        "\n",
        "models.append(RandomForestRegressor())\n",
        "model_names.append(\"Random Forest\")\n",
        "\n",
        "models.append(ExtraTreesRegressor())\n",
        "model_names.append(\"Extra Trees\")\n",
        "\n",
        "models.append(MLPRegressor())\n",
        "model_names.append(\"Neural Network\")\n",
        "\n",
        "models.append(SVR())\n",
        "model_names.append(\"Support Vector\")\n",
        "\n",
        "models.append(NuSVR())\n",
        "model_names.append(\"Linear Support Vector\")"
      ],
      "execution_count": 0,
      "outputs": []
    },
    {
      "cell_type": "markdown",
      "metadata": {
        "id": "Bk-AUq7r3cWI",
        "colab_type": "text"
      },
      "source": [
        "I will now create the training and testing data sets such that the training set takes the data from 2015-2017 and the testing set takes the data from 2018-2019"
      ]
    },
    {
      "cell_type": "code",
      "metadata": {
        "id": "cfy3mwzoG0NC",
        "colab_type": "code",
        "colab": {}
      },
      "source": [
        "X = cme_combined_df.drop(\"speed\", axis = 1)\n",
        "y = cme_combined_df[\"speed\"]\n",
        "\n",
        "X_train = X[mask_train]\n",
        "y_train = y[mask_train]\n",
        "X_test = X[mask_test]\n",
        "y_test = y[mask_test]\n",
        "\n",
        "ct = make_column_transformer(\n",
        "  (OneHotEncoder(handle_unknown=\"ignore\"), [\"type\"]),\n",
        "  (TfidfVectorizer(norm = None, max_features = 200), \"note_cme\"),\n",
        "  (TfidfVectorizer(norm = None, max_features = 200), \"note_analysis\"),\n",
        "  (TfidfVectorizer(norm = None), \"instruments\"),\n",
        "  remainder = \"passthrough\"\n",
        ")"
      ],
      "execution_count": 0,
      "outputs": []
    },
    {
      "cell_type": "markdown",
      "metadata": {
        "id": "UozS8ga63ycR",
        "colab_type": "text"
      },
      "source": [
        "Finally, we will see which model best predicts the MSE of the testing set based on the training set. We do not need to perform any cross-validation since we have a true testing set."
      ]
    },
    {
      "cell_type": "code",
      "metadata": {
        "id": "8KL2hzK4RxGm",
        "colab_type": "code",
        "outputId": "c5f5e85b-1b5c-4b25-b22b-cbc11c406c20",
        "colab": {
          "base_uri": "https://localhost:8080/",
          "height": 171
        }
      },
      "source": [
        "mses = []\n",
        "\n",
        "n = len(models)\n",
        "\n",
        "for i in range(n):\n",
        "  pipelines = []\n",
        "  pipeline = make_pipeline(\n",
        "      ct,\n",
        "      models[i]\n",
        "  )\n",
        "  pipelines.append(pipeline)\n",
        "  for scaler in [StandardScaler(with_mean = False), Normalizer()]:\n",
        "    pipeline = make_pipeline(\n",
        "      ct,\n",
        "      scaler,\n",
        "      models[i]\n",
        "    )\n",
        "    pipelines.append(pipeline)\n",
        "\n",
        "  addition = [\"\", \" with Standard Scaler\", \" with Normalizer\"]\n",
        "  \n",
        "  for j in range(3):\n",
        "    pipelines[j].fit(X_train, y_train)\n",
        "    y_pred = pipelines[j].predict(X_test)\n",
        "    mse = mean_squared_error(y_test, y_pred)\n",
        "    mses.append((model_names[i] + addition[j], int(mse)))"
      ],
      "execution_count": 12,
      "outputs": [
        {
          "output_type": "stream",
          "text": [
            "/usr/local/lib/python3.6/dist-packages/sklearn/linear_model/_coordinate_descent.py:460: ConvergenceWarning: Objective did not converge. You might want to increase the number of iterations. Duality gap: 5170165.680308646, tolerance: 6077.729348619955\n",
            "  max_iter, tol, rng, random, positive)\n",
            "/usr/local/lib/python3.6/dist-packages/sklearn/linear_model/_coordinate_descent.py:460: ConvergenceWarning: Objective did not converge. You might want to increase the number of iterations. Duality gap: 11760431.068945799, tolerance: 6077.729348619955\n",
            "  max_iter, tol, rng, random, positive)\n",
            "/usr/local/lib/python3.6/dist-packages/sklearn/neural_network/_multilayer_perceptron.py:571: ConvergenceWarning: Stochastic Optimizer: Maximum iterations (200) reached and the optimization hasn't converged yet.\n",
            "  % self.max_iter, ConvergenceWarning)\n",
            "/usr/local/lib/python3.6/dist-packages/sklearn/neural_network/_multilayer_perceptron.py:571: ConvergenceWarning: Stochastic Optimizer: Maximum iterations (200) reached and the optimization hasn't converged yet.\n",
            "  % self.max_iter, ConvergenceWarning)\n"
          ],
          "name": "stderr"
        }
      ]
    },
    {
      "cell_type": "code",
      "metadata": {
        "id": "AoGaSORSY_dH",
        "colab_type": "code",
        "outputId": "c515a263-be6f-4182-c167-b19f785b4ee5",
        "colab": {
          "base_uri": "https://localhost:8080/",
          "height": 1000
        }
      },
      "source": [
        "models_result = sorted(mses, key=lambda x: x[1])\n",
        "pd.DataFrame(models_result, columns = [\"model\", \"MSE\"]).set_index(\"model\")"
      ],
      "execution_count": 13,
      "outputs": [
        {
          "output_type": "execute_result",
          "data": {
            "text/html": [
              "<div>\n",
              "<style scoped>\n",
              "    .dataframe tbody tr th:only-of-type {\n",
              "        vertical-align: middle;\n",
              "    }\n",
              "\n",
              "    .dataframe tbody tr th {\n",
              "        vertical-align: top;\n",
              "    }\n",
              "\n",
              "    .dataframe thead th {\n",
              "        text-align: right;\n",
              "    }\n",
              "</style>\n",
              "<table border=\"1\" class=\"dataframe\">\n",
              "  <thead>\n",
              "    <tr style=\"text-align: right;\">\n",
              "      <th></th>\n",
              "      <th>MSE</th>\n",
              "    </tr>\n",
              "    <tr>\n",
              "      <th>model</th>\n",
              "      <th></th>\n",
              "    </tr>\n",
              "  </thead>\n",
              "  <tbody>\n",
              "    <tr>\n",
              "      <th>Random Forest</th>\n",
              "      <td>3224</td>\n",
              "    </tr>\n",
              "    <tr>\n",
              "      <th>Random Forest with Standard Scaler</th>\n",
              "      <td>3280</td>\n",
              "    </tr>\n",
              "    <tr>\n",
              "      <th>Gradient Boosting with Standard Scaler</th>\n",
              "      <td>3294</td>\n",
              "    </tr>\n",
              "    <tr>\n",
              "      <th>Gradient Boosting</th>\n",
              "      <td>3324</td>\n",
              "    </tr>\n",
              "    <tr>\n",
              "      <th>AdaBoost</th>\n",
              "      <td>3551</td>\n",
              "    </tr>\n",
              "    <tr>\n",
              "      <th>AdaBoost with Standard Scaler</th>\n",
              "      <td>3692</td>\n",
              "    </tr>\n",
              "    <tr>\n",
              "      <th>Extra Trees</th>\n",
              "      <td>4316</td>\n",
              "    </tr>\n",
              "    <tr>\n",
              "      <th>Extra Trees with Standard Scaler</th>\n",
              "      <td>4418</td>\n",
              "    </tr>\n",
              "    <tr>\n",
              "      <th>Lasso</th>\n",
              "      <td>5683</td>\n",
              "    </tr>\n",
              "    <tr>\n",
              "      <th>Lasso with Standard Scaler</th>\n",
              "      <td>5937</td>\n",
              "    </tr>\n",
              "    <tr>\n",
              "      <th>Elastic Net with Standard Scaler</th>\n",
              "      <td>6958</td>\n",
              "    </tr>\n",
              "    <tr>\n",
              "      <th>Elastic Net</th>\n",
              "      <td>10733</td>\n",
              "    </tr>\n",
              "    <tr>\n",
              "      <th>Extra Trees with Normalizer</th>\n",
              "      <td>13116</td>\n",
              "    </tr>\n",
              "    <tr>\n",
              "      <th>Ridge Regression with Standard Scaler</th>\n",
              "      <td>14591</td>\n",
              "    </tr>\n",
              "    <tr>\n",
              "      <th>Linear Regression with Normalizer</th>\n",
              "      <td>15408</td>\n",
              "    </tr>\n",
              "    <tr>\n",
              "      <th>Linear Regression with Standard Scaler</th>\n",
              "      <td>15572</td>\n",
              "    </tr>\n",
              "    <tr>\n",
              "      <th>Ridge Regression</th>\n",
              "      <td>17504</td>\n",
              "    </tr>\n",
              "    <tr>\n",
              "      <th>Neural Network with Standard Scaler</th>\n",
              "      <td>19547</td>\n",
              "    </tr>\n",
              "    <tr>\n",
              "      <th>Support Vector</th>\n",
              "      <td>20618</td>\n",
              "    </tr>\n",
              "    <tr>\n",
              "      <th>Support Vector with Standard Scaler</th>\n",
              "      <td>20618</td>\n",
              "    </tr>\n",
              "    <tr>\n",
              "      <th>Support Vector with Normalizer</th>\n",
              "      <td>20618</td>\n",
              "    </tr>\n",
              "    <tr>\n",
              "      <th>Linear Regression</th>\n",
              "      <td>21101</td>\n",
              "    </tr>\n",
              "    <tr>\n",
              "      <th>Linear Support Vector</th>\n",
              "      <td>22904</td>\n",
              "    </tr>\n",
              "    <tr>\n",
              "      <th>Linear Support Vector with Standard Scaler</th>\n",
              "      <td>22904</td>\n",
              "    </tr>\n",
              "    <tr>\n",
              "      <th>Linear Support Vector with Normalizer</th>\n",
              "      <td>22904</td>\n",
              "    </tr>\n",
              "    <tr>\n",
              "      <th>Neural Network</th>\n",
              "      <td>24891</td>\n",
              "    </tr>\n",
              "    <tr>\n",
              "      <th>Ridge Regression with Normalizer</th>\n",
              "      <td>27679</td>\n",
              "    </tr>\n",
              "    <tr>\n",
              "      <th>Lasso with Normalizer</th>\n",
              "      <td>27679</td>\n",
              "    </tr>\n",
              "    <tr>\n",
              "      <th>Elastic Net with Normalizer</th>\n",
              "      <td>27679</td>\n",
              "    </tr>\n",
              "    <tr>\n",
              "      <th>Random Forest with Normalizer</th>\n",
              "      <td>27999</td>\n",
              "    </tr>\n",
              "    <tr>\n",
              "      <th>Gradient Boosting with Normalizer</th>\n",
              "      <td>28442</td>\n",
              "    </tr>\n",
              "    <tr>\n",
              "      <th>Neural Network with Normalizer</th>\n",
              "      <td>46548</td>\n",
              "    </tr>\n",
              "    <tr>\n",
              "      <th>AdaBoost with Normalizer</th>\n",
              "      <td>48508</td>\n",
              "    </tr>\n",
              "  </tbody>\n",
              "</table>\n",
              "</div>"
            ],
            "text/plain": [
              "                                              MSE\n",
              "model                                            \n",
              "Random Forest                                3224\n",
              "Random Forest with Standard Scaler           3280\n",
              "Gradient Boosting with Standard Scaler       3294\n",
              "Gradient Boosting                            3324\n",
              "AdaBoost                                     3551\n",
              "AdaBoost with Standard Scaler                3692\n",
              "Extra Trees                                  4316\n",
              "Extra Trees with Standard Scaler             4418\n",
              "Lasso                                        5683\n",
              "Lasso with Standard Scaler                   5937\n",
              "Elastic Net with Standard Scaler             6958\n",
              "Elastic Net                                 10733\n",
              "Extra Trees with Normalizer                 13116\n",
              "Ridge Regression with Standard Scaler       14591\n",
              "Linear Regression with Normalizer           15408\n",
              "Linear Regression with Standard Scaler      15572\n",
              "Ridge Regression                            17504\n",
              "Neural Network with Standard Scaler         19547\n",
              "Support Vector                              20618\n",
              "Support Vector with Standard Scaler         20618\n",
              "Support Vector with Normalizer              20618\n",
              "Linear Regression                           21101\n",
              "Linear Support Vector                       22904\n",
              "Linear Support Vector with Standard Scaler  22904\n",
              "Linear Support Vector with Normalizer       22904\n",
              "Neural Network                              24891\n",
              "Ridge Regression with Normalizer            27679\n",
              "Lasso with Normalizer                       27679\n",
              "Elastic Net with Normalizer                 27679\n",
              "Random Forest with Normalizer               27999\n",
              "Gradient Boosting with Normalizer           28442\n",
              "Neural Network with Normalizer              46548\n",
              "AdaBoost with Normalizer                    48508"
            ]
          },
          "metadata": {
            "tags": []
          },
          "execution_count": 13
        }
      ]
    },
    {
      "cell_type": "markdown",
      "metadata": {
        "id": "Cj61n-15a0m9",
        "colab_type": "text"
      },
      "source": [
        "This analysis reports that the models that minimize the mean squared error are a Random Forest Regressor with no scaler and a Gradient Boosting Regressor with a standard scaler. I will now determine the $R^2$ value of these two models."
      ]
    },
    {
      "cell_type": "code",
      "metadata": {
        "id": "FWZqi75PazrH",
        "colab_type": "code",
        "outputId": "a3450ef2-8a3a-45cd-a6b3-f69b330c1de4",
        "colab": {
          "base_uri": "https://localhost:8080/",
          "height": 50
        }
      },
      "source": [
        "rf_pipeline = make_pipeline(\n",
        "    ct,\n",
        "    RandomForestRegressor()\n",
        ")\n",
        "rf_pipeline.fit(X_train, y_train)\n",
        "rf_pred = rf_pipeline.predict(X_test)\n",
        "rf_r2 = r2_score(y_test, rf_pred)\n",
        "\n",
        "print(\"Random Forest R^2 score:\", rf_r2)\n",
        "\n",
        "gb_pipeline = make_pipeline(\n",
        "    ct,\n",
        "    StandardScaler(with_mean = False),\n",
        "    GradientBoostingRegressor()\n",
        ")\n",
        "gb_pipeline.fit(X_train, y_train)\n",
        "gb_pred = gb_pipeline.predict(X_test)\n",
        "gb_r2 = r2_score(y_test, gb_pred)\n",
        "\n",
        "print(\"Gradient Boosting R^2 score:\", gb_r2)"
      ],
      "execution_count": 14,
      "outputs": [
        {
          "output_type": "stream",
          "text": [
            "Random Forest R^2 score: 0.8282235904534659\n",
            "Gradient Boosting R^2 score: 0.8057110247931129\n"
          ],
          "name": "stdout"
        }
      ]
    },
    {
      "cell_type": "markdown",
      "metadata": {
        "id": "CnkUT3Px4Gam",
        "colab_type": "text"
      },
      "source": [
        "Both of these have high $R^2$ values, which means our models were very successful."
      ]
    },
    {
      "cell_type": "markdown",
      "metadata": {
        "id": "osO9ZIPr4OHL",
        "colab_type": "text"
      },
      "source": [
        "I will now plot the true speeds against predicted speeds from these two models, with a line through the middle indicating where the points would fall if they were all perfect predictions."
      ]
    },
    {
      "cell_type": "code",
      "metadata": {
        "id": "O7Vmogfaie0e",
        "colab_type": "code",
        "colab": {}
      },
      "source": [
        "i  = [x for x in range(1000)]\n",
        "y_eq_x = pd.DataFrame({\"x\": i, \"y\": i})"
      ],
      "execution_count": 0,
      "outputs": []
    },
    {
      "cell_type": "code",
      "metadata": {
        "id": "7U3RCkXhgbpe",
        "colab_type": "code",
        "outputId": "beb1672e-99fb-46ff-8e88-bba7284f8214",
        "colab": {
          "base_uri": "https://localhost:8080/",
          "height": 296
        }
      },
      "source": [
        "import matplotlib.pyplot as plt\n",
        "\n",
        "rf_df = pd.DataFrame({\"True Value\": y_test, \n",
        "                      \"Random Forest Predicted Value\": rf_pred})\n",
        "\n",
        "plt.scatter(x = rf_df[\"Random Forest Predicted Value\"],\n",
        "            y = rf_df[\"True Value\"])\n",
        "\n",
        "plt.ylabel(\"True Value\")\n",
        "plt.xlabel(\"Random Forest Predicted Value\")\n",
        "\n",
        "plt.plot(y_eq_x[\"x\"], y_eq_x[\"y\"], color = \"red\")"
      ],
      "execution_count": 16,
      "outputs": [
        {
          "output_type": "execute_result",
          "data": {
            "text/plain": [
              "[<matplotlib.lines.Line2D at 0x7ff2f6b357f0>]"
            ]
          },
          "metadata": {
            "tags": []
          },
          "execution_count": 16
        },
        {
          "output_type": "display_data",
          "data": {
            "image/png": "[encoded data removed]",
            "text/plain": [
              "<Figure size 432x288 with 1 Axes>"
            ]
          },
          "metadata": {
            "tags": []
          }
        }
      ]
    },
    {
      "cell_type": "code",
      "metadata": {
        "id": "buw2zy9piFCK",
        "colab_type": "code",
        "outputId": "9338cd5e-66d1-419f-a000-4fc3d561823f",
        "colab": {
          "base_uri": "https://localhost:8080/",
          "height": 296
        }
      },
      "source": [
        "gb_df = pd.DataFrame({\"True Value\": y_test, \n",
        "                      \"Gradient Boosting Predicted Value\": gb_pred})\n",
        "\n",
        "plt.scatter(x = gb_df[\"Gradient Boosting Predicted Value\"],\n",
        "            y = gb_df[\"True Value\"])\n",
        "\n",
        "plt.ylabel(\"True Value\")\n",
        "plt.xlabel(\"Gradient Boosting Predicted Value\")\n",
        "\n",
        "plt.plot(y_eq_x[\"x\"], y_eq_x[\"y\"], color = \"red\")"
      ],
      "execution_count": 17,
      "outputs": [
        {
          "output_type": "execute_result",
          "data": {
            "text/plain": [
              "[<matplotlib.lines.Line2D at 0x7ff2f6a98da0>]"
            ]
          },
          "metadata": {
            "tags": []
          },
          "execution_count": 17
        },
        {
          "output_type": "display_data",
          "data": {
            "image/png": "[encoded data removed]",
            "text/plain": [
              "<Figure size 432x288 with 1 Axes>"
            ]
          },
          "metadata": {
            "tags": []
          }
        }
      ]
    },
    {
      "cell_type": "markdown",
      "metadata": {
        "id": "VgfeaYWwva8H",
        "colab_type": "text"
      },
      "source": [
        "Finally, Random Forest allows us to check Feature Importance to see which variables had a highest impact on CME speed."
      ]
    },
    {
      "cell_type": "code",
      "metadata": {
        "id": "ue1G4yJMvY0w",
        "colab_type": "code",
        "outputId": "69c71800-9943-4fdd-a403-91563992b753",
        "colab": {
          "base_uri": "https://localhost:8080/",
          "height": 815
        }
      },
      "source": [
        "from sklearn.feature_extraction import DictVectorizer\n",
        "from sklearn.preprocessing import FunctionTransformer\n",
        "\n",
        "def row_to_dict(Xtrain, ytrain=None):\n",
        "    return Xtrain.apply(dict, axis=1)\n",
        "\n",
        "ft = FunctionTransformer(row_to_dict, validate=False)\n",
        "dv = DictVectorizer()\n",
        "rf = RandomForestRegressor()\n",
        "\n",
        "feature_pipeline = make_pipeline(\n",
        "    ft,\n",
        "    dv,\n",
        "    rf\n",
        ")\n",
        "feature_pipeline.fit(X_train, y_train)\n",
        "\n",
        "feature_importances = list(zip(dv.feature_names_, rf.feature_importances_))\n",
        "\n",
        "new_importances = {}\n",
        "to_remove = []\n",
        "for i in range(len(feature_importances)):\n",
        "    feature = feature_importances[i][0]\n",
        "    score = feature_importances[i][1]\n",
        "    if \"=\" in feature:\n",
        "        to_remove.append(feature_importances[i])\n",
        "        split = feature.split(\"=\")\n",
        "        if split[0] in list(new_importances.keys()):\n",
        "            new_importances[split[0]] += score\n",
        "        else:\n",
        "            new_importances[split[0]] = score\n",
        "\n",
        "for val in to_remove:\n",
        "    feature_importances.remove(val)\n",
        "    \n",
        "for key in list(new_importances.keys()):\n",
        "    feature_importances.append((key, new_importances[key]))\n",
        "\n",
        "feature_importances = sorted(feature_importances, \n",
        "                             key=lambda x: x[1], reverse = True)\n",
        "\n",
        "importances = pd.DataFrame.from_records(feature_importances, \n",
        "                                        columns = [\"Feature\", \"Importance\"]\n",
        "                                        ).set_index(\"Feature\")\n",
        "display(importances)\n",
        "importances.plot.bar()"
      ],
      "execution_count": 18,
      "outputs": [
        {
          "output_type": "display_data",
          "data": {
            "text/html": [
              "<div>\n",
              "<style scoped>\n",
              "    .dataframe tbody tr th:only-of-type {\n",
              "        vertical-align: middle;\n",
              "    }\n",
              "\n",
              "    .dataframe tbody tr th {\n",
              "        vertical-align: top;\n",
              "    }\n",
              "\n",
              "    .dataframe thead th {\n",
              "        text-align: right;\n",
              "    }\n",
              "</style>\n",
              "<table border=\"1\" class=\"dataframe\">\n",
              "  <thead>\n",
              "    <tr style=\"text-align: right;\">\n",
              "      <th></th>\n",
              "      <th>Importance</th>\n",
              "    </tr>\n",
              "    <tr>\n",
              "      <th>Feature</th>\n",
              "      <th></th>\n",
              "    </tr>\n",
              "  </thead>\n",
              "  <tbody>\n",
              "    <tr>\n",
              "      <th>type</th>\n",
              "      <td>0.777568</td>\n",
              "    </tr>\n",
              "    <tr>\n",
              "      <th>time_before_analysis</th>\n",
              "      <td>0.157595</td>\n",
              "    </tr>\n",
              "    <tr>\n",
              "      <th>note_cme</th>\n",
              "      <td>0.017227</td>\n",
              "    </tr>\n",
              "    <tr>\n",
              "      <th>halfAngle</th>\n",
              "      <td>0.009439</td>\n",
              "    </tr>\n",
              "    <tr>\n",
              "      <th>note_analysis</th>\n",
              "      <td>0.007312</td>\n",
              "    </tr>\n",
              "    <tr>\n",
              "      <th>longitude</th>\n",
              "      <td>0.006707</td>\n",
              "    </tr>\n",
              "    <tr>\n",
              "      <th>time_since_last_cme</th>\n",
              "      <td>0.005375</td>\n",
              "    </tr>\n",
              "    <tr>\n",
              "      <th>latitude</th>\n",
              "      <td>0.004764</td>\n",
              "    </tr>\n",
              "    <tr>\n",
              "      <th>startTime_minutes</th>\n",
              "      <td>0.004632</td>\n",
              "    </tr>\n",
              "    <tr>\n",
              "      <th>instruments</th>\n",
              "      <td>0.004452</td>\n",
              "    </tr>\n",
              "    <tr>\n",
              "      <th>analysis_time_minutes</th>\n",
              "      <td>0.004415</td>\n",
              "    </tr>\n",
              "    <tr>\n",
              "      <th>linkedEvents</th>\n",
              "      <td>0.000513</td>\n",
              "    </tr>\n",
              "  </tbody>\n",
              "</table>\n",
              "</div>"
            ],
            "text/plain": [
              "                       Importance\n",
              "Feature                          \n",
              "type                     0.777568\n",
              "time_before_analysis     0.157595\n",
              "note_cme                 0.017227\n",
              "halfAngle                0.009439\n",
              "note_analysis            0.007312\n",
              "longitude                0.006707\n",
              "time_since_last_cme      0.005375\n",
              "latitude                 0.004764\n",
              "startTime_minutes        0.004632\n",
              "instruments              0.004452\n",
              "analysis_time_minutes    0.004415\n",
              "linkedEvents             0.000513"
            ]
          },
          "metadata": {
            "tags": []
          }
        },
        {
          "output_type": "execute_result",
          "data": {
            "text/plain": [
              "<matplotlib.axes._subplots.AxesSubplot at 0x7ff2f6a3bba8>"
            ]
          },
          "metadata": {
            "tags": []
          },
          "execution_count": 18
        },
        {
          "output_type": "display_data",
          "data": {
            "image/png": "[encoded data removed]",
            "text/plain": [
              "<Figure size 432x288 with 1 Axes>"
            ]
          },
          "metadata": {
            "tags": []
          }
        }
      ]
    },
    {
      "cell_type": "markdown",
      "metadata": {
        "id": "IqwZk6SUw6ea",
        "colab_type": "text"
      },
      "source": [
        "According to our feature importance analysis, the type of CME is by far the most important feature, which is unsurprising considering the boxplot of speed grouped by type in the data exploration section. Additionally, the time elapsed between when the CME occurred and when the analysis occurred also has a non-negligible correlation with speed, indicating that faster CMEs are analyzed quicker. This results seems correct based off our exploratory analyses in the previous notebook."
      ]
    }
  ]
}